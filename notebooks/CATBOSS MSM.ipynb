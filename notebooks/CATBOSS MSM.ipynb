{
 "cells": [
  {
   "cell_type": "code",
   "execution_count": 1,
   "metadata": {},
   "outputs": [
    {
     "ename": "ModuleNotFoundError",
     "evalue": "No module named 'pyemma'",
     "output_type": "error",
     "traceback": [
      "\u001b[0;31m---------------------------------------------------------------------------\u001b[0m",
      "\u001b[0;31mModuleNotFoundError\u001b[0m                       Traceback (most recent call last)",
      "Cell \u001b[0;32mIn[1], line 1\u001b[0m\n\u001b[0;32m----> 1\u001b[0m \u001b[38;5;28;01mimport\u001b[39;00m \u001b[38;5;21;01mpyemma\u001b[39;00m\n\u001b[1;32m      2\u001b[0m \u001b[38;5;28;01mimport\u001b[39;00m \u001b[38;5;21;01mnumpy\u001b[39;00m \u001b[38;5;28;01mas\u001b[39;00m \u001b[38;5;21;01mnp\u001b[39;00m\n\u001b[1;32m      3\u001b[0m \u001b[38;5;28;01mimport\u001b[39;00m \u001b[38;5;21;01mpandas\u001b[39;00m \u001b[38;5;28;01mas\u001b[39;00m \u001b[38;5;21;01mpd\u001b[39;00m\n",
      "\u001b[0;31mModuleNotFoundError\u001b[0m: No module named 'pyemma'"
     ]
    }
   ],
   "source": [
    "import pyemma\n",
    "import numpy as np\n",
    "import pandas as pd\n",
    "from sklearn import metrics\n",
    "from sklearn.cluster import DBSCAN\n",
    "from scipy.spatial.distance import cdist\n",
    "import matplotlib.pyplot as plt\n",
    "import seaborn as sns\n",
    "import ot\n",
    "import os\n",
    "from tqdm import tqdm\n",
    "\n",
    "df = pd.read_csv('ADP_data/A_2D_1ps.dat', header=None, skipinitialspace=True, sep=' ', names=['phi', 'psi'])\n",
    "points = np.array(df)[10000:15000]\n",
    "pts = np.array(df)"
   ]
  },
  {
   "cell_type": "code",
   "execution_count": null,
   "metadata": {},
   "outputs": [],
   "source": [
    "cluster = pyemma.coordinates.cluster_kmeans(pts[10000:15000], k=50, max_iter=50, stride=10)"
   ]
  },
  {
   "cell_type": "code",
   "execution_count": null,
   "metadata": {},
   "outputs": [],
   "source": [
    "print(cluster.dtrajs)\n",
    "print(np.array(cluster.dtrajs).shape)"
   ]
  },
  {
   "cell_type": "code",
   "execution_count": null,
   "metadata": {},
   "outputs": [],
   "source": [
    "its = pyemma.msm.its(cluster.dtrajs, lags=[1, 2, 5, 10, 20, 50], nits=4, errors='bayes')"
   ]
  },
  {
   "cell_type": "code",
   "execution_count": null,
   "metadata": {},
   "outputs": [],
   "source": [
    "fig, axes = plt.subplots(1, 3, figsize=(12, 3))\n",
    "\n",
    "# For the trajectory segments, plot the point of highest density instead of the entire point cloud ... \n",
    "\n",
    "pyemma.plots.plot_feature_histograms(pts[10000:15000], feature_labels=['$\\Phi$', '$\\Psi$'], ax=axes[0])\n",
    "pyemma.plots.plot_density(*pts[10000:15000].T, ax=axes[1], cbar=False, alpha=0.1)\n",
    "axes[1].scatter(*cluster.clustercenters.T, s=15, c='C1')\n",
    "axes[1].scatter(*cluster.clustercenters[28], s=15, c='C2')\n",
    "axes[1].scatter(*cluster.clustercenters[5], s=15, c='C2')\n",
    "axes[1].set_xlabel('$\\Phi$')\n",
    "axes[1].set_ylabel('$\\Psi$')\n",
    "pyemma.plots.plot_implied_timescales(its, ax=axes[2], units='ps')"
   ]
  },
  {
   "cell_type": "code",
   "execution_count": null,
   "metadata": {},
   "outputs": [],
   "source": [
    "msm = pyemma.msm.estimate_markov_model(cluster.dtrajs, lag=20, dt_traj='1 ps')\n",
    "pyemma.plots.plot_cktest(msm.cktest(4), units='ps');"
   ]
  },
  {
   "cell_type": "code",
   "execution_count": null,
   "metadata": {},
   "outputs": [],
   "source": [
    "msm.metastable_sets"
   ]
  },
  {
   "cell_type": "code",
   "execution_count": null,
   "metadata": {},
   "outputs": [],
   "source": [
    "msm.metastable_sets[1][0]"
   ]
  },
  {
   "cell_type": "code",
   "execution_count": null,
   "metadata": {},
   "outputs": [],
   "source": [
    "fig, axes = plt.subplots(1, 2, figsize=(12, 6))\n",
    "\n",
    "# For the trajectory segments, plot the point of highest density instead of the entire point cloud ... \n",
    "\n",
    "dict = {0:'c', 1:'g', 2:'r', 3:'b', 4:'m', 5:'b', 6:'orange', 7:'k'}\n",
    "\n",
    "pyemma.plots.plot_feature_histograms(pts[10000:15000], feature_labels=['$\\Phi$', '$\\Psi$'], ax=axes[0])\n",
    "pyemma.plots.plot_density(*pts[10000:15000].T, ax=axes[1], cbar=False, alpha=0.1)\n",
    "\n",
    "axes[1].scatter(*cluster.clustercenters.T, s=15, c='C1')\n",
    "\n",
    "for i in range(len(msm.metastable_sets)):\n",
    "    for j in range(len(msm.metastable_sets[i])):\n",
    "        axes[1].scatter(*cluster.clustercenters[msm.metastable_sets[i][j]], s=15, c=dict[i])\n",
    "    axes[1].scatter(*cluster.clustercenters[msm.metastable_sets[i][0]], s=15, c=dict[i],label=i)\n",
    "#axes[1].scatter(*cluster.clustercenters[28], s=15, c='C2')\n",
    "#axes[1].scatter(*cluster.clustercenters[8], s=15, c='C2')\n",
    "axes[1].set_xlabel('$\\Phi$')\n",
    "axes[1].set_ylabel('$\\Psi$')\n",
    "#pyemma.plots.plot_implied_timescales(its, ax=axes[2], units='ps')\n",
    "axes[1].legend()\n",
    "\n",
    "#cyan=0, green=1, red=2, blue=3"
   ]
  },
  {
   "cell_type": "code",
   "execution_count": null,
   "metadata": {},
   "outputs": [],
   "source": [
    "msm.metastable_sets[1]"
   ]
  },
  {
   "cell_type": "code",
   "execution_count": null,
   "metadata": {},
   "outputs": [],
   "source": [
    "print(msm.transition_matrix)\n",
    "print(msm.transition_matrix.shape)"
   ]
  },
  {
   "cell_type": "code",
   "execution_count": null,
   "metadata": {},
   "outputs": [],
   "source": [
    "plt.figure(figsize=(6,6))\n",
    "hm = sns.heatmap(data=msm.transition_matrix,cmap='Greys')"
   ]
  },
  {
   "cell_type": "code",
   "execution_count": null,
   "metadata": {},
   "outputs": [],
   "source": [
    "pyemma.msm.PCCA(msm.transition_matrix, 4).metastable_sets\n"
   ]
  },
  {
   "cell_type": "code",
   "execution_count": null,
   "metadata": {},
   "outputs": [],
   "source": [
    "inter_state_trans = np.zeros((len(msm.metastable_sets[2]),len(msm.metastable_sets[2])))\n",
    "add= 0\n",
    "for i in range(len(msm.metastable_sets[2])):\n",
    "    for j in range(len(msm.metastable_sets[2])):\n",
    "        inter_state_trans[i][j] = msm.transition_matrix[msm.metastable_sets[2][i]][msm.metastable_sets[2][j]]\n",
    "\n",
    "print(inter_state_trans.shape)\n",
    "print(inter_state_trans.sum())"
   ]
  },
  {
   "cell_type": "code",
   "execution_count": null,
   "metadata": {},
   "outputs": [],
   "source": [
    "#Todo: sum the probability of transitioning between macro states.\n",
    "\n",
    "\"\"\"\n",
    "1) for each metastable macro state i, compute the probability of transitioning to macro state j\n",
    "  - for each micro state in i compute sum of probabilites of transitioning to each micro state in j\n",
    "\"\"\"\n",
    "\n",
    "macro_state_transition_mtx = np.zeros((len(msm.metastable_sets), len(msm.metastable_sets)))\n",
    "\n",
    "for i in range(len(msm.metastable_sets)):\n",
    "    for j in range(len(msm.metastable_sets)): \n",
    "        sum = 0\n",
    "        for k in msm.metastable_sets[i]:\n",
    "            for l in msm.metastable_sets[j]:\n",
    "              sum += msm.transition_matrix[k][l]\n",
    "        \n",
    "        macro_state_transition_mtx[i][j] += sum\n",
    "\n",
    "row_sums = macro_state_transition_mtx.sum(axis=1, keepdims=True)\n",
    "normalized_macro_transition_matrix = macro_state_transition_mtx / row_sums\n",
    "\n",
    "print(normalized_macro_transition_matrix)"
   ]
  },
  {
   "cell_type": "code",
   "execution_count": null,
   "metadata": {},
   "outputs": [],
   "source": [
    "plt.figure(figsize=(6,6))\n",
    "hm = sns.heatmap(data=normalized_macro_transition_matrix,cmap='Greys', annot=True)"
   ]
  },
  {
   "cell_type": "markdown",
   "metadata": {},
   "source": [
    "# Segment based MSM"
   ]
  },
  {
   "cell_type": "code",
   "execution_count": null,
   "metadata": {},
   "outputs": [],
   "source": [
    "df = pd.read_csv('ADP_data/A_2D_1ps.dat', header=None, skipinitialspace=True, sep=' ', names=['phi', 'psi'])\n",
    "points = np.array(df)\n",
    "\n",
    "change_pts_info = pd.read_csv(\"data/ChangePoints_phi_ws=10_q=0.8_psi_ws=25_q=0.75.txt\", delimiter=',',header=None, skipinitialspace=True, names=['CP', 'angle'])\n",
    "\n",
    "improved_clusters = pd.read_csv(\"data/ClusterTrajectory_total=100000_K=8_CATBOSSclustering.txt\",header=None, skipinitialspace=False)\n",
    "arr = np.array(improved_clusters)\n",
    "arr = arr.flatten()"
   ]
  },
  {
   "cell_type": "code",
   "execution_count": null,
   "metadata": {},
   "outputs": [],
   "source": [
    "arr_cpi = np.array(change_pts_info)"
   ]
  },
  {
   "cell_type": "code",
   "execution_count": null,
   "metadata": {},
   "outputs": [],
   "source": [
    "def construct_combined_states(pts, CPS, start, end):\n",
    "    unshifted_states = {\"metastable\": [], \"transition\": []}\n",
    "    all_state_cons = []\n",
    "    for i in range(len(CPS)):\n",
    "        if i!=0 and i < len(CPS)-1:\n",
    "            curr_cp = CPS[i][0]\n",
    "            next_cp = CPS[i+1][0]\n",
    "\n",
    "            curr_label = CPS[i][1]\n",
    "            next_label = CPS[i+1][1]\n",
    "        elif i==0:\n",
    "            curr_cp = start\n",
    "            next_cp = CPS[i+1][0]\n",
    "\n",
    "            curr_label = 'phi'\n",
    "            next_label = CPS[i+1][1]\n",
    "        else:\n",
    "            curr_cp = CPS[i][0]\n",
    "            next_cp = end\n",
    "\n",
    "            curr_label = CPS[i][1]\n",
    "            next_label = 'phi'\n",
    "        \n",
    "        unshifted_subseq = pts[curr_cp:next_cp]\n",
    "        all_state_cons.append(unshifted_subseq)\n",
    "        if curr_label == 'phi' and next_label == 'phi':\n",
    "            unshifted_states[\"metastable\"].append(unshifted_subseq)\n",
    "        elif curr_label == 'phi' and next_label == 'enter_psi':\n",
    "            unshifted_states[\"metastable\"].append(unshifted_subseq)\n",
    "        elif curr_label == 'exit_psi' and next_label == 'phi':\n",
    "            unshifted_states[\"metastable\"].append(unshifted_subseq)\n",
    "        elif curr_label == 'exit_psi' and next_label == 'enter_psi':\n",
    "            unshifted_states[\"metastable\"].append(unshifted_subseq)\n",
    "\n",
    "        else:\n",
    "            unshifted_states[\"transition\"].append(unshifted_subseq)\n",
    "\n",
    "    return unshifted_states, all_state_cons"
   ]
  },
  {
   "cell_type": "code",
   "execution_count": null,
   "metadata": {},
   "outputs": [],
   "source": [
    "list_unshifted, all_of_unshifted_states = construct_combined_states(pts, arr_cpi, 0, 100000)"
   ]
  },
  {
   "cell_type": "code",
   "execution_count": null,
   "metadata": {},
   "outputs": [],
   "source": [
    "filter_out_all_states = [i for i in all_of_unshifted_states if len(i) != 0]\n",
    "states = filter_out_all_states\n",
    "labs = arr"
   ]
  },
  {
   "cell_type": "code",
   "execution_count": null,
   "metadata": {},
   "outputs": [],
   "source": [
    "filter_out_all_states = [i for i in all_of_unshifted_states if len(i) != 0]\n",
    "states = filter_out_all_states\n",
    "labs = arr\n",
    "\n",
    "for i in range(len(labs)):\n",
    "    if labs[i] == 7:\n",
    "        labs[i] = 0\n",
    "\n",
    "colors = [\n",
    "    \"#FF5733\",  # Red-Orange\n",
    "    \"#33FF57\",  # Lime Green\n",
    "    \"#3357FF\",  # Blue\n",
    "    \"#FF33A6\",  # Pink\n",
    "    \"#33FFF5\",  # Cyan\n",
    "    \"#FFBD33\",  # Orange\n",
    "    \"#8D33FF\",  # Purple\n",
    "    \"#FF5733\",  # Red\n",
    "    \"#33FFBD\",  # Mint\n",
    "    \"#FFFF33\"   # Yellow\n",
    "]\n",
    "\n",
    "n_clusters = 8\n",
    "rows = int(n_clusters/3) + 1\n",
    "\n",
    "fig, ax = plt.subplots(rows, 3, figsize=(20, 10), layout=\"constrained\")\n",
    "counter = 0\n",
    "for i in range(rows):\n",
    "    for j in range(3):\n",
    "        if counter==n_clusters:\n",
    "            for k in range(len(labs)):\n",
    "                ax[i, j].scatter(states[k][:,0],states[k][:,1], s=5, c=colors[labs[k]],alpha=0.25)\n",
    "            ax[i, j].set_title(\"Ramachandran Plot of all clusters\")\n",
    "        else:\n",
    "            for k in range(len(labs)):\n",
    "                if labs[k] ==counter:\n",
    "                    ax[i, j].scatter(states[k][:,0],states[k][:,1], s=5, c=colors[labs[k]],alpha=0.5)\n",
    "            str1_lst = ['Ramachandran Plot of cluster: ', counter]\n",
    "            str1 = ''.join(map(str,str1_lst))\n",
    "            ax[i, j].set_title(str1)\n",
    "        counter+=1\n",
    "        ax[i, j].set_xlabel(\"$\\Phi$\")\n",
    "        ax[i, j].set_ylabel(\"$\\Psi$\")\n",
    "        ax[i, j].set_xlim(-180,180)\n",
    "        ax[i, j].set_ylim(-180,180)\n"
   ]
  },
  {
   "cell_type": "code",
   "execution_count": null,
   "metadata": {},
   "outputs": [],
   "source": [
    "\n",
    "for k in range(len(labs)):\n",
    "   plt.scatter(states[k][:,0],states[k][:,1], s=5, c=colors[labs[k]],alpha=0.25)\n",
    "plt.title(\"Ramachandran Plot of all clusters\")\n",
    "plt.xlabel(\"$\\Phi$\")\n",
    "plt.ylabel(\"$\\Psi$\")\n",
    "plt.xlim(-180,180)\n",
    "plt.ylim(-180,180)\n",
    "\n",
    "plt.scatter(-100, 150, s=5, c=colors[0] ,alpha=0.5, label='State 0')\n",
    "plt.scatter(-100, 0, s=5, c=colors[1] ,alpha=0.5, label='State 1')\n",
    "plt.scatter(50, 50, s=5, c=colors[2] ,alpha=0.5, label='State 2')\n",
    "plt.scatter(-150,150, s=5, c=colors[3] ,alpha=0.5, label='State 3')\n",
    "plt.scatter(-150, 50, s=5, c=colors[4] ,alpha=0.5, label='State 4')\n",
    "plt.scatter(-125, 150, s=5, c=colors[5] ,alpha=0.5, label='State 5')\n",
    "plt.scatter(-75, 50, s=5, c=colors[6] ,alpha=0.5, label='State 6')\n",
    "plt.legend()"
   ]
  },
  {
   "cell_type": "code",
   "execution_count": null,
   "metadata": {},
   "outputs": [],
   "source": [
    "new_traj = []\n",
    "for i in range(len(labs)):\n",
    "    ar = np.full(len(filter_out_all_states[i]), labs[i])\n",
    "    new_traj.append(ar)\n",
    "\n",
    "traj = np.concatenate(new_traj)\n",
    "print(len(traj))"
   ]
  },
  {
   "cell_type": "markdown",
   "metadata": {},
   "source": []
  },
  {
   "cell_type": "code",
   "execution_count": null,
   "metadata": {},
   "outputs": [],
   "source": [
    "its = pyemma.msm.its(traj, lags=[1, 2, 5, 10, 20, 50,100], nits=3, errors='bayes')\n",
    "pyemma.plots.plot_implied_timescales(its, ax=plt, units='ps')\n"
   ]
  },
  {
   "cell_type": "code",
   "execution_count": null,
   "metadata": {},
   "outputs": [],
   "source": [
    "msm_seg = pyemma.msm.estimate_markov_model(traj, lag=20, dt_traj='1 ps')\n",
    "pyemma.plots.plot_cktest(msm_seg.cktest(7), units='ps');"
   ]
  },
  {
   "cell_type": "code",
   "execution_count": null,
   "metadata": {},
   "outputs": [],
   "source": [
    "plt.figure(figsize=(6,6))\n",
    "hm = sns.heatmap(data=msm_seg.transition_matrix,cmap='Greys', annot=True)"
   ]
  },
  {
   "cell_type": "markdown",
   "metadata": {},
   "source": [
    "# Barycenter MSM"
   ]
  },
  {
   "cell_type": "code",
   "execution_count": null,
   "metadata": {},
   "outputs": [],
   "source": [
    "df = pd.read_csv('ADP_data/A_2D_1ps.dat', header=None, skipinitialspace=True, sep=' ', names=['phi', 'psi'])\n",
    "points = np.array(df)\n",
    "\n",
    "change_pts_info = pd.read_csv(\"data/ChangePoints_phi_ws=10_q=0.8_psi_ws=25_q=0.75.txt\", delimiter=',',header=None, skipinitialspace=True, names=['CP', 'angle'])\n",
    "\n",
    "improved_clusters = pd.read_csv(\"data/ClusterTrajectory_total=100000_Barycenters.txt\",header=None, skipinitialspace=False)\n",
    "arr = np.array(improved_clusters)\n",
    "arr = arr.flatten()"
   ]
  },
  {
   "cell_type": "code",
   "execution_count": null,
   "metadata": {},
   "outputs": [],
   "source": [
    "change_pts_info['angle'][0]"
   ]
  },
  {
   "cell_type": "code",
   "execution_count": null,
   "metadata": {},
   "outputs": [],
   "source": [
    "list_unshifted = construct_combined_states(points, change_pts_info, 0, 100000)"
   ]
  },
  {
   "cell_type": "code",
   "execution_count": null,
   "metadata": {},
   "outputs": [],
   "source": [
    "filter_out_all_states = [i for i in all_of_unshifted_states if len(i) != 0]\n",
    "states = filter_out_all_states\n",
    "labs = [int(i) for i in arr]\n",
    "\n",
    "colors = [\n",
    "    \"#FF5733\",  # Red-Orange\n",
    "    \"#33FF57\",  # Lime Green\n",
    "    \"#3357FF\",  # Blue\n",
    "    \"#FF33A6\",  # Pink\n",
    "    \"#33FFF5\",  # Cyan\n",
    "    \"#FFBD33\",  # Orange\n",
    "    \"#8D33FF\",  # Purple\n",
    "    \"#FF5733\",  # Red\n",
    "    \"#33FFBD\",  # Mint\n",
    "    \"#FFFF33\"   # Yellow\n",
    "]\n",
    "\n",
    "n_clusters = 8\n",
    "rows = int(n_clusters/3) + 1\n",
    "\n",
    "fig, ax = plt.subplots(rows, 3, figsize=(20, 10), layout=\"constrained\")\n",
    "counter = 0\n",
    "for i in range(rows):\n",
    "    for j in range(3):\n",
    "        if counter==n_clusters:\n",
    "            for k in range(len(labs)):\n",
    "                ax[i, j].scatter(states[k][:,0],states[k][:,1], s=5, c=colors[labs[k]],alpha=0.25)\n",
    "            ax[i, j].set_title(\"Ramachandran Plot of all clusters\")\n",
    "        else:\n",
    "            for k in range(len(labs)):\n",
    "                if labs[k] ==counter:\n",
    "                    ax[i, j].scatter(states[k][:,0],states[k][:,1], s=5, c=colors[labs[k]],alpha=0.5)\n",
    "            str1_lst = ['Ramachandran Plot of cluster: ', counter]\n",
    "            str1 = ''.join(map(str,str1_lst))\n",
    "            ax[i, j].set_title(str1)\n",
    "        counter+=1\n",
    "        ax[i, j].set_xlabel(\"$\\Phi$\")\n",
    "        ax[i, j].set_ylabel(\"$\\Psi$\")\n",
    "        ax[i, j].set_xlim(-180,180)\n",
    "        ax[i, j].set_ylim(-180,180)\n"
   ]
  },
  {
   "cell_type": "code",
   "execution_count": null,
   "metadata": {},
   "outputs": [],
   "source": [
    "new_traj = []\n",
    "for i in range(len(labs)):\n",
    "    ar = np.full(len(filter_out_all_states[i]), labs[i])\n",
    "    new_traj.append(ar)\n",
    "\n",
    "traj = np.concatenate(new_traj)\n",
    "print(len(traj))"
   ]
  },
  {
   "cell_type": "code",
   "execution_count": null,
   "metadata": {},
   "outputs": [],
   "source": [
    "traj"
   ]
  },
  {
   "cell_type": "code",
   "execution_count": null,
   "metadata": {},
   "outputs": [],
   "source": [
    "its = pyemma.msm.its(traj, lags=[1, 2, 5, 10, 20, 50,100], nits=3, errors='bayes')\n",
    "pyemma.plots.plot_implied_timescales(its, ax=plt, units='ps')"
   ]
  },
  {
   "cell_type": "code",
   "execution_count": null,
   "metadata": {},
   "outputs": [],
   "source": [
    "msm_seg = pyemma.msm.estimate_markov_model(traj, lag=20, dt_traj='1 ps')\n",
    "pyemma.plots.plot_cktest(msm_seg.cktest(6), units='ps');"
   ]
  },
  {
   "cell_type": "code",
   "execution_count": null,
   "metadata": {},
   "outputs": [],
   "source": [
    "plt.figure(figsize=(6,6))\n",
    "hm = sns.heatmap(data=msm_seg.transition_matrix,cmap='Greys', annot=True)"
   ]
  },
  {
   "cell_type": "code",
   "execution_count": null,
   "metadata": {},
   "outputs": [],
   "source": []
  }
 ],
 "metadata": {
  "kernelspec": {
   "display_name": "Python 3 (ipykernel)",
   "language": "python",
   "name": "python3"
  },
  "language_info": {
   "codemirror_mode": {
    "name": "ipython",
    "version": 3
   },
   "file_extension": ".py",
   "mimetype": "text/x-python",
   "name": "python",
   "nbconvert_exporter": "python",
   "pygments_lexer": "ipython3",
   "version": "3.11.9"
  },
  "vscode": {
   "interpreter": {
    "hash": "1d3c90a6d0a9089b67cd0b4e69385d4ad2e4076c91387aa17d6fb958bc46ab86"
   }
  }
 },
 "nbformat": 4,
 "nbformat_minor": 4
}
