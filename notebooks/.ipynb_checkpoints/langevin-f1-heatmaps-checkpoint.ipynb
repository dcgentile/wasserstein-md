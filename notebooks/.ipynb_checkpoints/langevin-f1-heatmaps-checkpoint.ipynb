{
 "cells": [
  {
   "cell_type": "code",
   "execution_count": 5,
   "id": "080b126a-f9b8-413d-93d6-b0d21b659011",
   "metadata": {
    "collapsed": false
   },
   "outputs": [],
   "source": [
    "import sys\n",
    "import numpy as np\n",
    "import seaborn as sns\n",
    "from tqdm import tqdm\n",
    "sys.path.append('../scripts')\n",
    "from ChangePointDetector import ChangePointDetector"
   ]
  },
  {
   "cell_type": "code",
   "execution_count": 6,
   "id": "8e8dfb7d-7aad-4670-b0a0-52070de54b46",
   "metadata": {
    "collapsed": false
   },
   "outputs": [],
   "source": [
    "detector = ChangePointDetector()\n",
    "detector.set_data('../data/Langevin_1D.txt')\n",
    "detector.set_truth('../data/Langevin_1D_change_points.txt')"
   ]
  },
  {
   "cell_type": "code",
   "execution_count": 7,
   "id": "e48644f5-ff09-43f0-b4e5-6ccf85f4ea15",
   "metadata": {
    "collapsed": false
   },
   "outputs": [],
   "source": [
    "quantile_floor = 78\n",
    "quantile_ceiling = 98\n",
    "quantile_step = 1\n",
    "quantile_count = int((quantile_ceiling - quantile_floor) / quantile_step)\n",
    "window_floor = 100\n",
    "window_ceiling = 300\n",
    "window_step = 10\n",
    "window_count = int((window_ceiling - window_floor) / window_step)\n",
    "wasserstein_recall_matrix = np.empty((window_count, quantile_count))\n",
    "wasserstein_f1_matrix = np.empty((window_count, quantile_count))\n",
    "kolmogorov_recall_matrix = np.empty((window_count, quantile_count))\n",
    "kolmogorov_f1_matrix = np.empty((window_count, quantile_count))\n",
    "denoised_wasserstein_recall_matrix = np.empty((window_count, quantile_count))\n",
    "denoised_wasserstein_f1_matrix = np.empty((window_count, quantile_count))\n",
    "denoised_kolmogorov_recall_matrix = np.empty((window_count, quantile_count))\n",
    "denoised_kolmogorov_f1_matrix = np.empty((window_count, quantile_count))"
   ]
  },
  {
   "cell_type": "code",
   "execution_count": 8,
   "id": "a62be7fc-f6ae-46c9-b73a-f54996905aed",
   "metadata": {
    "collapsed": false
   },
   "outputs": [
    {
     "name": "stderr",
     "output_type": "stream",
     "text": [
      "\r",
      "0it [00:00, ?it/s]"
     ]
    },
    {
     "name": "stderr",
     "output_type": "stream",
     "text": [
      "\r",
      "1it [10:47, 647.75s/it]"
     ]
    },
    {
     "name": "stderr",
     "output_type": "stream",
     "text": [
      "\r",
      "2it [50:12, 1657.71s/it]"
     ]
    },
    {
     "name": "stderr",
     "output_type": "stream",
     "text": [
      "\r",
      "3it [2:06:15, 2984.18s/it]"
     ]
    },
    {
     "name": "stderr",
     "output_type": "stream",
     "text": [
      "\r",
      "4it [3:43:33, 4110.83s/it]"
     ]
    },
    {
     "name": "stderr",
     "output_type": "stream",
     "text": [
      "\r",
      "5it [6:02:13, 5628.98s/it]"
     ]
    },
    {
     "name": "stderr",
     "output_type": "stream",
     "text": [
      "\r",
      "6it [7:22:30, 5352.84s/it]"
     ]
    },
    {
     "name": "stderr",
     "output_type": "stream",
     "text": [
      "\r",
      "7it [8:41:51, 5159.39s/it]"
     ]
    },
    {
     "name": "stderr",
     "output_type": "stream",
     "text": [
      "\r",
      "8it [9:06:22, 3985.08s/it]"
     ]
    },
    {
     "name": "stderr",
     "output_type": "stream",
     "text": [
      "\r",
      "9it [9:15:33, 2911.48s/it]"
     ]
    },
    {
     "name": "stderr",
     "output_type": "stream",
     "text": [
      "\r",
      "10it [10:03:02, 2892.26s/it]"
     ]
    },
    {
     "name": "stderr",
     "output_type": "stream",
     "text": [
      "\r",
      "11it [10:12:13, 2175.63s/it]"
     ]
    },
    {
     "name": "stderr",
     "output_type": "stream",
     "text": [
      "\r",
      "12it [10:20:51, 1671.44s/it]"
     ]
    },
    {
     "name": "stderr",
     "output_type": "stream",
     "text": [
      "\r",
      "13it [10:29:11, 1316.51s/it]"
     ]
    },
    {
     "name": "stderr",
     "output_type": "stream",
     "text": [
      "\r",
      "14it [10:37:26, 1068.29s/it]"
     ]
    },
    {
     "name": "stderr",
     "output_type": "stream",
     "text": [
      "\r",
      "15it [10:45:21, 889.58s/it] "
     ]
    },
    {
     "name": "stderr",
     "output_type": "stream",
     "text": [
      "\r",
      "16it [10:52:36, 752.63s/it]"
     ]
    },
    {
     "name": "stderr",
     "output_type": "stream",
     "text": [
      "\r",
      "17it [10:59:49, 656.59s/it]"
     ]
    },
    {
     "name": "stderr",
     "output_type": "stream",
     "text": [
      "\r",
      "18it [11:06:46, 584.55s/it]"
     ]
    },
    {
     "name": "stderr",
     "output_type": "stream",
     "text": [
      "\r",
      "19it [11:13:23, 528.28s/it]"
     ]
    },
    {
     "name": "stderr",
     "output_type": "stream",
     "text": [
      "\r",
      "20it [11:19:59, 488.60s/it]"
     ]
    },
    {
     "name": "stderr",
     "output_type": "stream",
     "text": [
      "\r",
      "20it [11:19:59, 2039.97s/it]"
     ]
    },
    {
     "name": "stderr",
     "output_type": "stream",
     "text": [
      "\n"
     ]
    }
   ],
   "source": [
    "method='wasserstein'\n",
    "for i, q in tqdm(enumerate(range(quantile_floor, quantile_ceiling, quantile_step))):\n",
    "    for j, w in enumerate(range(window_floor, window_ceiling, window_step)):\n",
    "        detector.compute_change_points(method=method, windowsize=w, cutoff=(0.01 * q))\n",
    "        detector.compute_f1_stats()\n",
    "        wasserstein_recall_matrix[i,j] = detector.get_f1_stats()[0]\n",
    "        wasserstein_f1_matrix[i,j] = detector.get_f1_stats()[2]"
   ]
  },
  {
   "cell_type": "code",
   "execution_count": null,
   "id": "a0eb0870-e3e2-4271-9204-b7f4260ccf6e",
   "metadata": {
    "collapsed": false
   },
   "outputs": [
    {
     "name": "stderr",
     "output_type": "stream",
     "text": [
      "\r",
      "0it [00:00, ?it/s]"
     ]
    },
    {
     "name": "stderr",
     "output_type": "stream",
     "text": [
      "\r",
      "1it [09:12, 552.54s/it]"
     ]
    }
   ],
   "source": [
    "method='kolmogorov'\n",
    "for i, q in tqdm(enumerate(range(quantile_floor, quantile_ceiling, quantile_step))):\n",
    "    for j, w in enumerate(range(window_floor, window_ceiling, window_step)):\n",
    "        detector.compute_change_points(method=method, windowsize=w, cutoff=(0.01 * q))\n",
    "        detector.compute_f1_stats()\n",
    "        kolmogorov_recall_matrix[i,j] = detector.get_f1_stats()[0]\n",
    "        kolmogorov_f1_matrix[i,j] = detector.get_f1_stats()[2]"
   ]
  },
  {
   "cell_type": "code",
   "execution_count": null,
   "id": "3d4876f7-4fb3-4449-99a4-8af25a42c48c",
   "metadata": {
    "collapsed": false
   },
   "outputs": [],
   "source": [
    "detector.denoise_data(50)"
   ]
  },
  {
   "cell_type": "code",
   "execution_count": null,
   "id": "cb9fac71-934a-4853-9045-fe923cdb105d",
   "metadata": {
    "collapsed": false
   },
   "outputs": [],
   "source": [
    "method='wasserstein'\n",
    "for i, q in tqdm(enumerate(range(quantile_floor, quantile_ceiling, quantile_step))):\n",
    "    for j, w in enumerate(range(window_floor, window_ceiling, window_step)):\n",
    "        detector.compute_change_points(method=method, windowsize=w, cutoff=(0.01 * q))\n",
    "        detector.compute_f1_stats()\n",
    "        denoised_wasserstein_recall_matrix[i,j] = detector.get_f1_stats()[0]\n",
    "        denoised_wasserstein_f1_matrix[i,j] = detector.get_f1_stats()[2]"
   ]
  },
  {
   "cell_type": "code",
   "execution_count": null,
   "id": "bda4729f-a623-4be9-975c-3c9b38b1af8b",
   "metadata": {
    "collapsed": false
   },
   "outputs": [],
   "source": [
    "method='kolmogorov'\n",
    "for i, q in tqdm(enumerate(range(quantile_floor, quantile_ceiling, quantile_step))):\n",
    "    for j, w in enumerate(range(window_floor, window_ceiling, window_step)):\n",
    "        detector.compute_change_points(method=method, windowsize=w, cutoff=(0.01 * q))\n",
    "        detector.compute_f1_stats()\n",
    "        denoised_kolmogorov_recall_matrix[i,j] = detector.get_f1_stats()[0]\n",
    "        denoised_kolmogorov_f1_matrix[i,j] = detector.get_f1_stats()[2]"
   ]
  },
  {
   "cell_type": "code",
   "execution_count": 37,
   "id": "b6a4c257-d117-4b1f-b3c8-c0e5e8265d63",
   "metadata": {
    "collapsed": false
   },
   "outputs": [
    {
     "data": {
      "text/plain": [
       "(array([0.5, 1.5, 2.5, 3.5, 4.5, 5.5, 6.5, 7.5, 8.5, 9.5]),\n",
       " [Text(0, 0.5, '0.78'),\n",
       "  Text(0, 1.5, '0.80'),\n",
       "  Text(0, 2.5, '0.82'),\n",
       "  Text(0, 3.5, '0.84'),\n",
       "  Text(0, 4.5, '0.86'),\n",
       "  Text(0, 5.5, '0.88'),\n",
       "  Text(0, 6.5, '0.90'),\n",
       "  Text(0, 7.5, '0.92'),\n",
       "  Text(0, 8.5, '0.94'),\n",
       "  Text(0, 9.5, '0.96')])"
      ]
     },
     "execution_count": 37,
     "metadata": {},
     "output_type": "execute_result"
    },
    {
     "data": {
      "image/png": "[encoded data removed]",
      "text/plain": [
       "<Figure size 640x480 with 2 Axes>"
      ]
     },
     "metadata": {},
     "output_type": "display_data"
    }
   ],
   "source": [
    "import matplotlib.pyplot as plt\n",
    "fig, ax = plt.subplots()\n",
    "ax.set_title(\"Moving Window Wasserstein Metric F1 Scores\")\n",
    "sns.heatmap(f1_matrix)\n",
    "ax.set_yticklabels([f\"{0.01 * q:.2f}\" for q in range(quantile_floor, quantile_ceiling, quantile_step)])\n",
    "ax.set_xticklabels([f\"{w}\" for w in range(window_floor, window_ceiling, window_step)])\n",
    "ax.set_ylabel(\"Quantile\")\n",
    "ax.set_xlabel(\"Window Size\")\n",
    "plt.yticks(rotation=0)"
   ]
  },
  {
   "cell_type": "code",
   "execution_count": null,
   "id": "1fb7ebdc-3903-4d23-a812-2c5c15c92a74",
   "metadata": {
    "collapsed": false
   },
   "outputs": [],
   "source": []
  }
 ],
 "metadata": {
  "kernelspec": {
   "argv": [
    "python",
    "-m",
    "ipykernel_launcher",
    "-f",
    "{connection_file}"
   ],
   "display_name": "Python 3 (ipykernel)",
   "env": null,
   "interrupt_mode": "signal",
   "language": "python",
   "metadata": {
    "debugger": true
   },
   "name": "python3"
  },
  "name": "langevin-f1-heatmaps.ipynb"
 },
 "nbformat": 4,
 "nbformat_minor": 5
}
