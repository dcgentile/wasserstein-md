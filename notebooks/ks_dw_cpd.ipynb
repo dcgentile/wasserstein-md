{
 "cells": [
  {
   "cell_type": "code",
   "execution_count": null,
   "id": "3640ff37-4504-4068-a966-3f80568fbad3",
   "metadata": {
    "collapsed": false
   },
   "outputs": [],
   "source": [
    "import os\n",
    "import ot\n",
    "import sys\n",
    "import numpy as np\n",
    "import matplotlib.pyplot as plt\n",
    "from scipy.stats import kstest\n",
    "module_path = os.path.abspath(os.path.join('..','scripts'))\n",
    "if module_path not in sys.path:\n",
    "    sys.path.append(module_path)\n",
    "from W2ChangePoints import ChangePointDetector\n",
    "data_path = os.path.abspath(os.path.join('..', 'data', 'Langevin_1D.txt'))\n",
    "truth_path = os.path.abspath(os.path.join('..', 'data', 'ChangePts.txt'))"
   ]
  },
  {
   "cell_type": "code",
   "execution_count": null,
   "id": "a9bc46f6-e44f-4423-bdf5-0c7cb114b079",
   "metadata": {
    "collapsed": false
   },
   "outputs": [],
   "source": [
    "data = np.loadtxt(data_path)`` bi\n",
    "truth_data = np.loadtxt(truth_path)"
   ]
  },
  {
   "cell_type": "code",
   "execution_count": null,
   "id": "0519c506-2f03-4962-8716-fef70cc06e11",
   "metadata": {
    "collapsed": false
   },
   "outputs": [],
   "source": [
    "window_size = 1000\n",
    "ks_data = [kstest(data[(t - window_size):t], data[t:(t + window_size)]) for t in range(window_size, len(data) - window_size)]\n",
    "ks_stats = [x.statistic for x in ks_data]\n",
    "ks_pvals = [x.pvalue for x in ks_data]\n",
    "dw_data = [ot.emd2_1d(data[(t - window_size):t], data[t:(t + window_size)]) for t in range(window_size, len(data) - window_size)]\n",
    "change_points = [t in truth_data for t in range(len(data))]"
   ]
  },
  {
   "cell_type": "code",
   "execution_count": null,
   "id": "b9e19aca-718d-4562-a5c4-f5b9408389e8",
   "metadata": {
    "collapsed": false
   },
   "outputs": [],
   "source": [
    "ks_tp, ks_fp, ks_fn, dw_tp, dw_fp, dw_fn = 0,0,0,0,0,0\n",
    "ks_cutoff = 0.9\n",
    "dw_cutoff = 0.85\n",
    "tolerance = 100\n",
    "ks_cps = [x > ks_cutoff for x in ks_stats]\n",
    "dw_cps = [x > dw_cutoff for x in dw_data]\n",
    "for t in range(len(data) - 2 * window_size):\n",
    "    # if we detected a change point and there IS a true change point in the tolerance window, tp++\n",
    "    if ks_cps[t] and True in change_points[(t + window_size - tolerance):(t + window_size + tolerance)]:\n",
    "        ks_tp +=1\n",
    "    if dw_cps[t] and True in change_points[(t + window_size - tolerance):(t + window_size + tolerance)]:\n",
    "        dw_tp +=1\n",
    "    # if we detected a change point and there IS NOT a true change point in the tolerance window, fp++\n",
    "    if ks_cps[t] and True not in change_points[(t + window_size - tolerance):(t + window_size + tolerance)]:\n",
    "        ks_fp +=1\n",
    "    if dw_cps[t] and True not in change_points[(t + window_size - tolerance):(t + window_size + tolerance)]:\n",
    "        dw_fp +=1\n",
    "    # if we did not detect and change point and there IS a true change point int he tolerance window, fn++\n",
    "    if not ks_cps[t] and True in change_points[(t + window_size - tolerance):(t + window_size + tolerance)]:\n",
    "        ks_fn +=1\n",
    "    if not dw_cps[t] and True in change_points[(t + window_size - tolerance):(t + window_size + tolerance)]:\n",
    "        dw_fn +=1\n",
    "ks_recall = ks_tp / (ks_tp + ks_fn)\n",
    "dw_recall = dw_tp / (dw_tp + dw_fn)\n",
    "ks_precision = ks_tp / (ks_tp + ks_fp)\n",
    "dw_precision = dw_tp / (dw_tp + dw_fp)\n",
    "ks_f1 = 2 / ((1 / ks_recall) + (1 / ks_precision))\n",
    "dw_f1 = 2 / ((1 / dw_recall) + (1 / dw_precision))\n",
    "print(ks_recall, ks_precision, ks_f1)\n",
    "print(dw_recall, dw_precision, dw_f1)"
   ]
  },
  {
   "cell_type": "code",
   "execution_count": null,
   "id": "7f54a1b3-777f-4c88-b39d-34723b7058a4",
   "metadata": {
    "collapsed": false
   },
   "outputs": [],
   "source": [
    "fig, ax = plt.subplots()\n",
    "fig.set_size_inches(15,10)\n",
    "#ax.plot(np.arange(window_size, len(data) - window_size), ks_stats, c='b')\n",
    "for t in range(window_size, len(data) - window_size):\n",
    "    if ks_stats[t - window_size] > 0.9:\n",
    "        ax.vlines(t, -1.5, 1.5, colors='blue',linestyle='dashdot')\n",
    "ax.plot(np.arange(len(data)), data, c='orange')\n",
    "plt.title(\"Change Points Detected via Kolmogorov-Smirnov Statistics\")"
   ]
  },
  {
   "cell_type": "code",
   "execution_count": null,
   "id": "2c9c8665-5a83-423d-b3e6-81d3e8e28cc0",
   "metadata": {
    "collapsed": false
   },
   "outputs": [],
   "source": [
    "plt.clf()\n",
    "fig, ax = plt.subplots()\n",
    "fig.set_size_inches(15,10)\n",
    "cutoff = np.quantile(dw_data, 0.85)\n",
    "#ax.plot(np.arange(window_size, len(data) - window_size), ks_stats, c='b')\n",
    "for t in range(window_size, len(data) - window_size):\n",
    "    if dw_data[t - window_size] > cutoff:\n",
    "        ax.vlines(t, -1.5, 1.5, colors='blue',linestyle='dashdot')\n",
    "ax.plot(np.arange(len(data)), data, c='orange')\n",
    "plt.title(\"Change Points Detected via Wasserstein Differentials\")"
   ]
  },
  {
   "cell_type": "code",
   "execution_count": null,
   "id": "07653655-7539-470e-887e-0efa151ebb59",
   "metadata": {
    "collapsed": false
   },
   "outputs": [],
   "source": []
  }
 ],
 "metadata": {
  "kernelspec": {
   "argv": [
    "python",
    "-m",
    "ipykernel_launcher",
    "-f",
    "{connection_file}"
   ],
   "display_name": "Python 3 (ipykernel)",
   "env": null,
   "interrupt_mode": "signal",
   "language": "python",
   "metadata": {
    "debugger": true
   },
   "name": "python3"
  },
  "name": "ks_dw_cpd.ipynb"
 },
 "nbformat": 4,
 "nbformat_minor": 5
}
