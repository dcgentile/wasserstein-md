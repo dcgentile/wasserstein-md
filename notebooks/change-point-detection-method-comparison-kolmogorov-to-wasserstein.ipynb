{
 "cells": [
  {
   "cell_type": "code",
   "execution_count": null,
   "id": "3640ff37-4504-4068-a966-3f80568fbad3",
   "metadata": {
    "collapsed": false
   },
   "outputs": [],
   "source": [
    "import os\n",
    "import ot\n",
    "import sys\n",
    "import numpy as np\n",
    "import pandas as pd\n",
    "import matplotlib.pyplot as plt\n",
    "import seaborn as sns\n",
    "from scipy.stats import kstest\n",
    "from tqdm import tqdm\n",
    "module_path = os.path.abspath(os.path.join('..','scripts'))\n",
    "if module_path not in sys.path:\n",
    "    sys.path.append(module_path)\n",
    "from W2ChangePoints import ChangePointDetector\n",
    "data_path = os.path.abspath(os.path.join('..', 'data', 'Langevin_1D.txt'))\n",
    "truth_path = os.path.abspath(os.path.join('..', 'data', 'ChangePts.txt'))"
   ]
  },
  {
   "cell_type": "code",
   "execution_count": null,
   "id": "a9bc46f6-e44f-4423-bdf5-0c7cb114b079",
   "metadata": {
    "collapsed": false
   },
   "outputs": [],
   "source": [
    "data = np.loadtxt(data_path)\n",
    "truth_data = np.loadtxt(truth_path)"
   ]
  },
  {
   "cell_type": "code",
   "execution_count": null,
   "id": "0519c506-2f03-4962-8716-fef70cc06e11",
   "metadata": {
    "collapsed": false
   },
   "outputs": [],
   "source": [
    "true_cps = [t in truth_data for t in range(len(data))]"
   ]
  },
  {
   "cell_type": "code",
   "execution_count": null,
   "id": "f1501545-d237-4d4a-9012-a74c446f8cc7",
   "metadata": {
    "collapsed": false
   },
   "outputs": [],
   "source": []
  },
  {
   "cell_type": "code",
   "execution_count": null,
   "id": "b9e19aca-718d-4562-a5c4-f5b9408389e8",
   "metadata": {
    "collapsed": false
   },
   "outputs": [],
   "source": [
    "recall_scores = np.empty((10,10))\n",
    "for i, window_size in enumerate(range(50, 550, 50)):\n",
    "    dw_data = [ot.emd2_1d(data[t - window_size:t], data[t:t + window_size]) for t in range(window_size, len(data) - window_size)]\n",
    "    for j, tolerance in enumerate(range(25, 275, 25)):\n",
    "        \n",
    "        dw_tp, dw_fp, dw_fn = [],[],[]\n",
    "        dw_cutoff = np.quantile(dw_data, 0.85)\n",
    "        dw_cps = [x > dw_cutoff for x in dw_data]\n",
    "         \n",
    "        dw_cp_times = []\n",
    "        dw_cp_tp_fn = []\n",
    "        for t in range(len(data) - 2 * window_size):\n",
    "            left = t + window_size - tolerance # NB: we need to right shift all of our timestamps by amount window_size because thats when the first possible change_point is!\n",
    "            right = t + window_size + tolerance\n",
    "            window = true_cps[left:right]\n",
    "            if dw_cps[t] and True in window:\n",
    "                dw_tp.append(t)\n",
    "                dw_cp_times.append(t)\n",
    "                dw_cp_tp_fn.append(\"true positive\")\n",
    "            # if we detected a change point and there IS NOT a true change point in the tolerance window, fp++\n",
    "            if dw_cps[t] and True not in window:\n",
    "                dw_fp.append(t)\n",
    "            # if we did not detect and change point and there IS a true change point int he tolerance window, fn++\n",
    "            if not dw_cps[t] and True in window:\n",
    "                dw_fn.append(t)\n",
    "                dw_cp_times.append(t)\n",
    "                dw_cp_tp_fn.append(\"false negative\")\n",
    "        dw_recall = len(dw_tp)/ (len(dw_tp) + len(dw_fn))\n",
    "        dw_precision = len(dw_tp) / (len(dw_tp) + len(dw_fp))\n",
    "        dw_f1 = 2 / ((1 / dw_recall) + (1 / dw_precision))\n",
    "        recall_scores[i,j] = dw_recall\n"
   ]
  },
  {
   "cell_type": "code",
   "execution_count": null,
   "id": "97c47f4d-dc0c-4314-9f7c-fe2dd5ccc056",
   "metadata": {
    "collapsed": false
   },
   "outputs": [],
   "source": [
    "ax = sns.heatmap(recall_scores)\n",
    "plt.title(\"Recall Scores for Wasserstein Differentials, True Moving Window\")\n",
    "plt.xlabel(\"Error Tolerance\")\n",
    "plt.ylabel(\"Distribution/Window Size\")\n",
    "ax.set_xticklabels([x for x in range(25, 275, 25)])\n",
    "ax.set_yticklabels([x for x in range(50,550,50)])\n"
   ]
  },
  {
   "cell_type": "code",
   "execution_count": null,
   "id": "0a79eb20-fb77-479d-bb4a-88c148620fa3",
   "metadata": {
    "collapsed": false
   },
   "outputs": [],
   "source": [
    "window_size = 350\n",
    "tolerance = 25\n",
    "dw_data = [ot.emd2_1d(data[t - window_size:t], data[t:t + window_size]) for t in range(window_size, len(data) - window_size)]\n",
    "dw_tp, dw_fp, dw_fn = [],[],[]\n",
    "dw_cutoff = np.quantile(dw_data, 0.85)\n",
    "dw_cps = [x > dw_cutoff for x in dw_data]\n",
    " \n",
    "dw_cp_times = [] dw_cp_tp_fn = []\n",
    "for t in range(len(data) - 2 * window_size):\n",
    "    left = t + window_size - tolerance # NB: we need to right shift all of our timestamps by amount window_size because thats when the first possible change_point is!\n",
    "    right = t + window_size + tolerance\n",
    "    window = true_cps[left:right]\n",
    "    if dw_cps[t] and True in window:\n",
    "        dw_tp.append(t)\n",
    "        dw_cp_times.append(t)\n",
    "        dw_cp_tp_fn.append(\"true positive\")\n",
    "    # if we detected a change point and there IS NOT a true change point in the tolerance window, fp++\n",
    "    if dw_cps[t] and True not in window:\n",
    "        dw_fp.append(t)\n",
    "    # if we did not detect and change point and there IS a true change point int he tolerance window, fn++\n",
    "    if not dw_cps[t] and True in window:\n",
    "        dw_fn.append(t)\n",
    "        dw_cp_times.append(t)\n",
    "        dw_cp_tp_fn.append(\"false negative\")\n",
    "dw_recall = len(dw_tp)/ (len(dw_tp) + len(dw_fn))\n",
    "dw_precision = len(dw_tp) / (len(dw_tp) + len(dw_fp))\n",
    "dw_f1 = 2 / ((1 / dw_recall) + (1 / dw_precision))\n",
    "recall_scores[i,j] = dw_recall"
   ]
  },
  {
   "cell_type": "code",
   "execution_count": null,
   "id": "91f06fbd-7344-4af3-ae2a-562b27055ac0",
   "metadata": {
    "collapsed": false
   },
   "outputs": [],
   "source": [
    "times_to_graph = []\n",
    "cats = []\n",
    "for index in range(len(dw_cp_times) - 1):\n",
    "    if dw_cp_times[index + 1] - dw_cp_times[index] > 1:\n",
    "        times_to_graph.append(dw_cp_times[index])\n",
    "        cats.append(dw_cp_tp_fn[index])\n",
    "df = pd.DataFrame()\n",
    "df['times'] = times_to_graph\n",
    "df['val'] = -2\n",
    "df['f1class'] = cats\n"
   ]
  },
  {
   "cell_type": "code",
   "execution_count": null,
   "id": "2c9c8665-5a83-423d-b3e6-81d3e8e28cc0",
   "metadata": {
    "collapsed": false
   },
   "outputs": [],
   "source": [
    "plt.clf()\n",
    "fig, ax = plt.subplots()\n",
    "sns.set(rc={\"figure.figsize\":(15,6)})\n",
    "sns.lineplot(data,\n",
    "             color='red')\n",
    "sns.scatterplot(data = df,\n",
    "                x = 'times',\n",
    "                y = 'val',\n",
    "                style = 'f1class',\n",
    "                s=50)\n",
    "for index, time in enumerate(times_to_graph):\n",
    "\n",
    "    if cats[index] == \"false negative\":\n",
    "        sns.lineplot(x = [time,time], y = [-2,2], estimator = None, lw = 0.5, color = 'magenta')\n",
    "    if cats[index] == \"true positive\":\n",
    "        sns.lineplot(x = [time,time], y = [-2,2], estimator = None, lw = 0.5, color = 'blue')\n",
    "plt.legend(loc='upper right')\n",
    "plt.title(f\"Change Points Detected via Wasserstein Differentials\\n F1: {dw_f1:.2f}, Recall: {dw_recall:.2f}\")\n"
   ]
  },
  {
   "cell_type": "code",
   "execution_count": null,
   "id": "ea78ff8e-4411-4883-8c9f-6dbcebe0bf18",
   "metadata": {
    "collapsed": false
   },
   "outputs": [],
   "source": [
    "##ax.plot(np.arange(window_size, len(data) - window_size), ks_stats, c='b')\n",
    "#for t in range(window_size, len(data) - window_size):\n",
    "    #if ks_stats[t - window_size] > 0.9:\n",
    "        #ax.vlines(t, -1.5, 1.5, colors='blue',linestyle='dashdot')\n",
    "        #o\n",
    "#ax.plot(np.arange(len(data)), data, c='orange')\n",
    "#plt.title(\"Change Points Detected via Kolmogorov-Smirnov Statistics\")"
   ]
  },
  {
   "cell_type": "code",
   "execution_count": null,
   "id": "a8067ff0-45dd-47d7-91c0-92d808e57ba9",
   "metadata": {
    "collapsed": false
   },
   "outputs": [],
   "source": [
    "def change_points(data, method, cutoff, window):\n",
    "    if method=='wasserstein':\n",
    "        raise Exception(\"Not Implemented\")\n",
    "    elif method=='kolmogorov':\n",
    "        ks_data = [kstest(data[(t - window):t], data[t:(t + window)]) for t in range(window, len(data) - window)]\n",
    "        ks_stats = [x.statistic for x in ks_data]\n",
    "        return [x > cutoff for x in ks_stats]\n",
    "    else:\n",
    "        raise Exception(\"method not valid\")\n",
    "\n",
    "\n",
    "def f1_components(predicted_change_points, truth, method, cutoff, window, tolerance=25):\n",
    "    true_change_points = [t in truth_data for t in range(len(data))]\n",
    "    tp, fp, fn = [], [], []\n",
    "    for t in range(len(predicted_change_points)):\n",
    "        left = t + window - tolerance # NB: we need to right shift all of our timestamps by amount window_size because thats when the first possible change_point is!\n",
    "        right = t + window + tolerance\n",
    "        moving_window = true_change_points[left:right]\n",
    "        # if we detected a change point and there IS a true change point in the tolerance window, tp++\n",
    "        if predicted_change_points[t] and True in moving_window:\n",
    "            tp.append(t)\n",
    "        # if we detected a change point and there IS NOT a true change point in the tolerance moving_window, fp++\n",
    "        if predicted_change_points[t] and True not in moving_window:\n",
    "            fp.append(t)\n",
    "        # if we did not detect and change point and there IS a true change point int he tolerance moving_window, fn++\n",
    "        if not predicted_change_points[t] and True in moving_window:\n",
    "            fn.append(t)\n",
    "        # if we detected a change point and there IS a true change point in the tolerance moving_window, tp++\n",
    "    recall = len(tp)/ (len(tp) + len(fn))\n",
    "    precision = len(tp) / (len(tp) + len(fp))\n",
    "    f1 = 2 / ((1 / recall) + (1 / precision))\n",
    "\n",
    "    return recall, precision, f1\n",
    "    "
   ]
  },
  {
   "cell_type": "code",
   "execution_count": null,
   "id": "f42afb71-6d5e-433f-8314-aa3fa15beda6",
   "metadata": {
    "collapsed": false
   },
   "outputs": [],
   "source": [
    "cutoff_min = 10\n",
    "cutoff_max = 90\n",
    "cutoff_step_size = 5\n",
    "cutoff_count = int((cutoff_max - cutoff_min) / cutoff_step_size)\n",
    "window_min = 50\n",
    "window_max = 1000\n",
    "window_step_size = 50\n",
    "window_count = int((window_max - window_min) / window_step_size)\n",
    "f1_values = np.empty((cutoff_count, window_count))\n",
    "recall_values = np.empty((cutoff_count, window_count))\n",
    "print(f1_values.shape)\n",
    "\n",
    "go = True\n",
    "if go:\n",
    "    for i, cutoff in tqdm(enumerate(range(cutoff_min, cutoff_max, cutoff_step_size))):\n",
    "        for j, window in tqdm(enumerate(range(window_min, window_max, window_step_size))):\n",
    "           predictions = change_points(data, method='kolmogorov', cutoff = 0.01 * cutoff, window=window)\n",
    "           recall, _, f1 = f1_components(predictions, true_cps, method='kolmogorov', cutoff=0.01 * cutoff, window=window, tolerance=100)\n",
    "           f1_values[i,j] = f1\n",
    "           recall_values[i,j] = recall\n",
    "sns.heatmap(f1_values)\n",
    "sns.heatmap(recall_values)"
   ]
  },
  {
   "cell_type": "code",
   "execution_count": null,
   "id": "6c35e423-4576-4d59-ae63-82a6bfbe1abd",
   "metadata": {
    "collapsed": false
   },
   "outputs": [],
   "source": [
    "fig = plt.figure(figsize = (10,5)) # width x height\n",
    "ax1 = fig.add_subplot(1, 2, 1) # row, column, position\n",
    "ax2 = fig.add_subplot(1, 2, 2)\n",
    "sns.heatmap(f1_values,\n",
    "            ax=ax1,\n",
    "            yticklabels=[cutoff for cutoff in range(cutoff_min, cutoff_max, cutoff_step_size)],\n",
    "            xticklabels=[window for  window in range(window_min, window_max, window_step_size)])\n",
    "sns.heatmap(recall_values,\n",
    "            ax=ax2,\n",
    "            yticklabels=[cutoff for cutoff in range(cutoff_min, cutoff_max, cutoff_step_size)],\n",
    "            xticklabels=[window for  window in range(window_min, window_max, window_step_size)])\n",
    "ax1.set(title=\"F1 Scores\")\n",
    "ax2.set(title=\"Recall Scores\")\n",
    "plt.xlabel('Window Size')\n",
    "plt.ylabel('Cutoff')"
   ]
  },
  {
   "cell_type": "code",
   "execution_count": null,
   "id": "7ceae11f-3c22-4fb8-bcf6-4d503e5bd649",
   "metadata": {
    "collapsed": false
   },
   "outputs": [],
   "source": [
    "np.save('ks_f1.npy', f1_values)\n",
    "np.save('ks_recall.npy', recall_values)"
   ]
  },
  {
   "cell_type": "code",
   "execution_count": null,
   "id": "c50421d2-7f9c-40a9-bdf3-54e76316a29f",
   "metadata": {
    "collapsed": false
   },
   "outputs": [],
   "source": [
    "ks_f1 = np.load('ks_f1.npy')"
   ]
  },
  {
   "cell_type": "code",
   "execution_count": null,
   "id": "e8bfe8b0-4541-4aeb-a2e6-df111fbdb6f1",
   "metadata": {
    "collapsed": false
   },
   "outputs": [],
   "source": [
    "np.max(ks_f1[13, 12])"
   ]
  },
  {
   "cell_type": "code",
   "execution_count": null,
   "id": "1827c79b-89ff-40af-9f5b-e8c75b970274",
   "metadata": {
    "collapsed": false
   },
   "outputs": [],
   "source": [
    "r = np.load('ks_recall.npy')[13,12]"
   ]
  },
  {
   "cell_type": "code",
   "execution_count": null,
   "id": "378f2609-ea5e-4242-8d3c-49d02cbe3781",
   "metadata": {
    "collapsed": false
   },
   "outputs": [],
   "source": [
    "r"
   ]
  },
  {
   "cell_type": "code",
   "execution_count": null,
   "id": "c7d48be4-4cbe-4d91-b48e-8c7c796e830e",
   "metadata": {
    "collapsed": false
   },
   "outputs": [],
   "source": []
  }
 ],
 "metadata": {
  "kernelspec": {
   "argv": [
    "python",
    "-m",
    "ipykernel_launcher",
    "-f",
    "{connection_file}"
   ],
   "display_name": "Python 3 (ipykernel)",
   "env": null,
   "interrupt_mode": "signal",
   "language": "python",
   "metadata": {
    "debugger": true
   },
   "name": "python3"
  },
  "name": "change-point-detection-method-comparison-kolmogorov-to-wasserstein.ipynb"
 },
 "nbformat": 4,
 "nbformat_minor": 5
}
